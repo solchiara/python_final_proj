{
  "cells": [
    {
      "cell_type": "markdown",
      "metadata": {},
      "source": [
        "---\n",
        "title: \"Final project: Data and Programming for Public Policy II\"\n",
        "author: \"Cristian Bancayan, Sol Rivas & Claudia Felipe\"\n",
        "date: \"12-04-2024\"\n",
        "format: \n",
        "  pdf:\n",
        "    include-in-header: \n",
        "       text: |\n",
        "         \\usepackage{fvextra}\n",
        "         \\DefineVerbatimEnvironment{Highlighting}{Verbatim}{breaklines,commandchars=\\\\\\{\\}}\n",
        "include-before-body:\n",
        "  text: |\n",
        "    \\RecustomVerbatimEnvironment{verbatim}{Verbatim}{\n",
        "      showspaces = false,\n",
        "      showtabs = false,\n",
        "      breaksymbolleft={},\n",
        "      breaklines\n",
        "    }\n",
        "output:\n",
        "  echo: false\n",
        "  eval: false\n",
        "---"
      ],
      "id": "b0fcae77"
    },
    {
      "cell_type": "code",
      "metadata": {},
      "source": [
        "#------------------------\n",
        "#       Settings\n",
        "#------------------------\n",
        "\n",
        "# Packages \n",
        "#------------------------\n",
        "import os\n",
        "import pandas as pd\n",
        "import altair as alt\n",
        "\n",
        "\n",
        "# Working directory\n",
        "#------------------------\n",
        "username = os.getlogin()\n",
        "\n",
        "# Define paths for each user of this project\n",
        "paths = {\n",
        "    \"Cristian\": r\"C:\\Users\\Cristian\\Documents\\GitHub\\ppha30538_fall2024\\python_final_proj\",\n",
        "    \"solch\": r\"C:\\Users\\solch\\OneDrive\\Documentos\\2024 - autumn quarter\\python II\\python_final_proj\",\n",
        "    \"clfel\": r\"C:\\Users\\clfel\\Documents\\GitHub\\Python II\\python_final_proj\"\n",
        "}\n",
        "\n",
        "# Changing wd depending on the user:\n",
        "if username in paths:\n",
        "    os.chdir(paths[username])\n",
        "    print(f\"Directory changed to: {os.getcwd()}\")\n",
        "else:\n",
        "    print(f\"No predefined path for user: {username}\")\n",
        "\n",
        "# Note: Please update with the path of your folder and computer user."
      ],
      "id": "fef36225",
      "execution_count": null,
      "outputs": []
    }
  ],
  "metadata": {
    "kernelspec": {
      "name": "python3",
      "language": "python",
      "display_name": "Python 3 (ipykernel)",
      "path": "C:\\Users\\Cristian\\AppData\\Local\\Programs\\Python\\Python312\\share\\jupyter\\kernels\\python3"
    }
  },
  "nbformat": 4,
  "nbformat_minor": 5
}